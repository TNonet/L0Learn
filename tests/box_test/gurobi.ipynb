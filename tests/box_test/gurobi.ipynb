{
 "cells": [
  {
   "cell_type": "code",
   "execution_count": 15,
   "metadata": {},
   "outputs": [],
   "source": [
    "import gurobipy as gp\n",
    "from gurobipy import GRB\n",
    "import math"
   ]
  },
  {
   "cell_type": "code",
   "execution_count": 2,
   "metadata": {},
   "outputs": [],
   "source": [
    "def calculate_optimal_gurobi(l0=None, l1=None, l2=None, B=None, lb=None, ub=None, M=100):\n",
    "    m = gp.Model('box_constraint_test')\n",
    "    m.setParam( 'OutputFlag', False )\n",
    "    # Variables\n",
    "    Bi = m.addVar(lb=lb, ub=ub, vtype=GRB.CONTINUOUS, name=\"Bi\")\n",
    "    Bi_supp = m.addVar(vtype=GRB.BINARY, name = '1[Bi]')\n",
    "    Bi_sign = m.addVar(vtype=GRB.BINARY)\n",
    "    Bi_pos = m.addVar(lb=0, ub=ub, vtype=GRB.CONTINUOUS)\n",
    "    Bi_neg = m.addVar(lb=0, ub=-lb, vtype=GRB.CONTINUOUS)\n",
    "    \n",
    "    #Constraints\n",
    "    m.addConstr(Bi_pos <= M*Bi_sign)\n",
    "    m.addConstr(Bi_neg <= M*(1-Bi_sign))\n",
    "    m.addConstr(Bi == Bi_pos - Bi_neg)\n",
    "\n",
    "    m.addConstr(Bi >= -M*Bi_supp)\n",
    "    m.addConstr(Bi <= M*Bi_supp)\n",
    "    \n",
    "    #Cost\n",
    "    m.setObjective((B - Bi)*(B - Bi) + l0*Bi_supp + l1*(Bi_pos + Bi_neg) + l2*Bi*Bi, GRB.MINIMIZE)\n",
    "    \n",
    "    m.optimize()\n",
    "    \n",
    "    for v in m.getVars():\n",
    "        if v.varName == \"Bi\":\n",
    "            return v.x"
   ]
  },
  {
   "cell_type": "code",
   "execution_count": 68,
   "metadata": {},
   "outputs": [],
   "source": [
    "def box(x, lb, ub):\n",
    "    if x > ub:\n",
    "        return ub\n",
    "    elif x <= lb:\n",
    "        return lb\n",
    "    else:\n",
    "        return x\n",
    "    \n",
    "def sign(x):\n",
    "    if x < 0:\n",
    "        return -1\n",
    "    return 1\n",
    "\n",
    "def calculate_closed_from(l0=None, l1=None, l2=None, B=None, lb=None, ub=None, M=None):\n",
    "    Bi = B # Attempt to make Bi, B. This is solved for iteratively using other approaches\n",
    "    \n",
    "    x = box(sign(Bi)*(abs(Bi) - l1)/(1 + 2*l2), lb, ub)\n",
    "    \n",
    "    #print(x)\n",
    "    \n",
    "    condition1_for_zero_Bi = (abs(Bi) - l1)/(1 + 2*l2) < math.sqrt(2*l0/(1+2*l2))\n",
    "    \n",
    "    #print(condition1_for_zero_Bi)\n",
    "    if condition1_for_zero_Bi:\n",
    "        return 0\n",
    "    \n",
    "    condition2a_for_zero_Bi = not condition1_for_zero_Bi\n",
    "    \n",
    "    delta = (abs(Bi) - l1)**2 - 2*l0*(1 + 2*l2)\n",
    "    \n",
    "     \n",
    "    x_range_low = ((abs(Bi) - l1)*sign(Bi) - math.sqrt(delta))/(1 + 2*l2) \n",
    "    x_range_high = (((abs(Bi) - l1)*sign(Bi) + math.sqrt(delta))/(1 + 2*l2))\n",
    "    \n",
    "    condition2b_for_zero_Bi = x_range_low <= x <= x_range_high\n",
    "    \n",
    "    if (condition2a_for_zero_Bi and condition2b_for_zero_Bi):\n",
    "        return 0\n",
    "    else:\n",
    "        return x"
   ]
  },
  {
   "cell_type": "code",
   "execution_count": 81,
   "metadata": {},
   "outputs": [],
   "source": [
    "def cost(B, Bi, l0, l1, l2):\n",
    "    return (B - Bi)**2 + l0*(Bi!=0) + l1*abs(Bi) + l2*Bi**2"
   ]
  },
  {
   "cell_type": "code",
   "execution_count": 94,
   "metadata": {},
   "outputs": [],
   "source": [
    "l0 = 2\n",
    "l1 = 1\n",
    "l2 = 1\n",
    "B = 3\n",
    "lb = -0.5\n",
    "ub = 0.5"
   ]
  },
  {
   "cell_type": "code",
   "execution_count": 95,
   "metadata": {},
   "outputs": [
    {
     "name": "stdout",
     "output_type": "stream",
     "text": [
      "0.5 9.0\n"
     ]
    }
   ],
   "source": [
    "Bi_optimal = calculate_optimal(l0=l0, l1=l1, l2=l2, B=B , lb=lb, ub=ub)\n",
    "print(Bi_optimal, cost(B, Bi_optimal, l0, l1, l2))"
   ]
  },
  {
   "cell_type": "code",
   "execution_count": 96,
   "metadata": {},
   "outputs": [
    {
     "name": "stdout",
     "output_type": "stream",
     "text": [
      "0 9\n"
     ]
    }
   ],
   "source": [
    "Bi_box = calculate_closed_from(l0=l0, l1=l1, l2=l2, B=B , lb=lb, ub=ub)\n",
    "print(Bi_box, cost(B, Bi_box, l0, l1, l2))"
   ]
  },
  {
   "cell_type": "code",
   "execution_count": null,
   "metadata": {},
   "outputs": [],
   "source": []
  },
  {
   "cell_type": "code",
   "execution_count": null,
   "metadata": {},
   "outputs": [],
   "source": []
  }
 ],
 "metadata": {
  "kernelspec": {
   "display_name": "Python 3",
   "language": "python",
   "name": "python3"
  },
  "language_info": {
   "codemirror_mode": {
    "name": "ipython",
    "version": 3
   },
   "file_extension": ".py",
   "mimetype": "text/x-python",
   "name": "python",
   "nbconvert_exporter": "python",
   "pygments_lexer": "ipython3",
   "version": "3.7.7"
  }
 },
 "nbformat": 4,
 "nbformat_minor": 4
}
