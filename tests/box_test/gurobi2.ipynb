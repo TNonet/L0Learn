{
 "cells": [
  {
   "cell_type": "code",
   "execution_count": 15,
   "metadata": {},
   "outputs": [],
   "source": [
    "import gurobipy as gp\n",
    "from gurobipy import GRB\n",
    "import math"
   ]
  },
  {
   "cell_type": "code",
   "execution_count": 2,
   "metadata": {},
   "outputs": [],
   "source": [
    "def calculate_optimal_gurobi(l0=None, l1=None, l2=None, B=None, lb=None, ub=None, M=100):\n",
    "    m = gp.Model('box_constraint_test')\n",
    "    m.setParam( 'OutputFlag', False )\n",
    "    # Variables\n",
    "    Bi = m.addVar(lb=lb, ub=ub, vtype=GRB.CONTINUOUS, name=\"Bi\")\n",
    "    Bi_supp = m.addVar(vtype=GRB.BINARY, name = '1[Bi]')\n",
    "    Bi_sign = m.addVar(vtype=GRB.BINARY)\n",
    "    Bi_pos = m.addVar(lb=0, ub=ub, vtype=GRB.CONTINUOUS)\n",
    "    Bi_neg = m.addVar(lb=0, ub=-lb, vtype=GRB.CONTINUOUS)\n",
    "    \n",
    "    #Constraints\n",
    "    m.addConstr(Bi_pos <= M*Bi_sign)\n",
    "    m.addConstr(Bi_neg <= M*(1-Bi_sign))\n",
    "    m.addConstr(Bi == Bi_pos - Bi_neg)\n",
    "\n",
    "    m.addConstr(Bi >= -M*Bi_supp)\n",
    "    m.addConstr(Bi <= M*Bi_supp)\n",
    "    \n",
    "    #Cost\n",
    "    m.setObjective((B - Bi)*(B - Bi) + l0*Bi_supp + l1*(Bi_pos + Bi_neg) + l2*Bi*Bi, GRB.MINIMIZE)\n",
    "    \n",
    "    m.optimize()\n",
    "    \n",
    "    for v in m.getVars():\n",
    "        if v.varName == \"Bi\":\n",
    "            return v.x"
   ]
  },
  {
   "cell_type": "code",
   "execution_count": 140,
   "metadata": {},
   "outputs": [],
   "source": [
    "def box(x, lb, ub):\n",
    "    if x > ub:\n",
    "        return ub\n",
    "    elif x <= lb:\n",
    "        return lb\n",
    "    else:\n",
    "        return x\n",
    "    \n",
    "def sign(x):\n",
    "    if x < 0:\n",
    "        return -1\n",
    "    return 1\n",
    "\n",
    "def calculate_closed_from(l0=None, l1=None, l2=None, B=None, lb=None, ub=None, M=None):\n",
    "    Bi = B # Attempt to make Bi, B. This is solved for iteratively using other approaches\n",
    "    \n",
    "    x = box(sign(Bi)*(abs(Bi) - l1)/(1 + 2*l2), lb, ub)\n",
    "    \n",
    "    #print(x)\n",
    "    \n",
    "    condition1_for_zero_Bi = (abs(Bi) - l1)/(1 + 2*l2) < math.sqrt(2*l0/(1+2*l2))\n",
    "    \n",
    "    #print(condition1_for_zero_Bi)\n",
    "    if condition1_for_zero_Bi:\n",
    "        return 0\n",
    "    \n",
    "    # Uneccessary step, just maintained for similairy to derivation\n",
    "    condition2a_for_zero_Bi = not condition1_for_zero_Bi \n",
    "    \n",
    "    delta = (abs(Bi) - l1)**2 - 2*l0*(1 + 2*l2)\n",
    "    \n",
    "     \n",
    "    x_range_low = ((abs(Bi) - l1)*sign(Bi) - math.sqrt(delta))/(1 + 2*l2) \n",
    "    x_range_high = (((abs(Bi) - l1)*sign(Bi) + math.sqrt(delta))/(1 + 2*l2))\n",
    "    \n",
    "    #print(x_range_low, x_range_high)\n",
    "    condition2b_for_zero_Bi = x_range_low <= x <= x_range_high\n",
    "    \n",
    "    if (condition2a_for_zero_Bi and condition2b_for_zero_Bi):\n",
    "        return x\n",
    "    else:\n",
    "        return 0"
   ]
  },
  {
   "cell_type": "code",
   "execution_count": 141,
   "metadata": {},
   "outputs": [],
   "source": [
    "def cost(B, Bi, l0, l1, l2):\n",
    "    return (B - Bi)**2 + l0*(Bi!=0) + l1*abs(Bi) + l2*Bi**2"
   ]
  },
  {
   "cell_type": "code",
   "execution_count": 157,
   "metadata": {},
   "outputs": [],
   "source": [
    "l0 = .452\n",
    "l1 = .2231\n",
    "l2 = 0.1231\n",
    "B = 3\n",
    "lb = -0.5\n",
    "ub = 0.5"
   ]
  },
  {
   "cell_type": "code",
   "execution_count": 158,
   "metadata": {},
   "outputs": [
    {
     "name": "stdout",
     "output_type": "stream",
     "text": [
      "0.5 6.844325\n"
     ]
    }
   ],
   "source": [
    "Bi_optimal = calculate_optimal(l0=l0, l1=l1, l2=l2, B=B , lb=lb, ub=ub)\n",
    "print(Bi_optimal, cost(B, Bi_optimal, l0, l1, l2))"
   ]
  },
  {
   "cell_type": "code",
   "execution_count": 159,
   "metadata": {},
   "outputs": [
    {
     "name": "stdout",
     "output_type": "stream",
     "text": [
      "0.5 6.844325\n"
     ]
    }
   ],
   "source": [
    "Bi_box = calculate_closed_from(l0=l0, l1=l1, l2=l2, B=B , lb=lb, ub=ub)\n",
    "print(Bi_box, cost(B, Bi_box, l0, l1, l2))"
   ]
  },
  {
   "cell_type": "markdown",
   "metadata": {},
   "source": [
    "Test the implementations with 'hypothesis'. <br>\n",
    "hypothesis will search through the space defined by @given(...) and try to find examples that fail. It will then search the \"neighbors\" of that example trying to make as many of the variables 0 as possible.\n",
    "\n",
    "For example:\n",
    "```python\n",
    "def add(x, y):\n",
    "    return x - y\n",
    "\n",
    "@given(x=floats(0, 10), y=floats(0, 10))\n",
    "def test_add(x, y):\n",
    "    # x and y will be assigned floating values between 0, 10\n",
    "    assert add(x, y) == x + y\n",
    "    \n",
    "test_add() # Run here\n",
    "```\n",
    "\n",
    "test_add will try different values of x and y until it finds a failure. It will then try to push x and y to zero to find the \"smallest\" error. It will successfully push 'x' to zero as the 'truthyness\" of x-y == x+y does not depend on x. It only depends on y. Therefore, the failure it will find should be x=0 and y being very small."
   ]
  },
  {
   "cell_type": "code",
   "execution_count": 198,
   "metadata": {},
   "outputs": [
    {
     "name": "stdout",
     "output_type": "stream",
     "text": [
      "Falsifying example: test_add(\n",
      "    x=0.0, y=2.2204460492503135e-15,\n",
      ")\n"
     ]
    },
    {
     "ename": "AssertionError",
     "evalue": "",
     "output_type": "error",
     "traceback": [
      "\u001b[0;31m---------------------------------------------------------------------------\u001b[0m",
      "\u001b[0;31mAssertionError\u001b[0m                            Traceback (most recent call last)",
      "\u001b[0;32m<ipython-input-198-186ccd7e3739>\u001b[0m in \u001b[0;36m<module>\u001b[0;34m\u001b[0m\n\u001b[1;32m      7\u001b[0m     \u001b[0;32massert\u001b[0m \u001b[0madd\u001b[0m\u001b[0;34m(\u001b[0m\u001b[0mx\u001b[0m\u001b[0;34m,\u001b[0m \u001b[0my\u001b[0m\u001b[0;34m)\u001b[0m \u001b[0;34m==\u001b[0m \u001b[0mx\u001b[0m \u001b[0;34m+\u001b[0m \u001b[0my\u001b[0m\u001b[0;34m\u001b[0m\u001b[0;34m\u001b[0m\u001b[0m\n\u001b[1;32m      8\u001b[0m \u001b[0;34m\u001b[0m\u001b[0m\n\u001b[0;32m----> 9\u001b[0;31m \u001b[0mtest_add\u001b[0m\u001b[0;34m(\u001b[0m\u001b[0;34m)\u001b[0m\u001b[0;34m\u001b[0m\u001b[0;34m\u001b[0m\u001b[0m\n\u001b[0m",
      "\u001b[0;32m<ipython-input-198-186ccd7e3739>\u001b[0m in \u001b[0;36mtest_add\u001b[0;34m()\u001b[0m\n\u001b[1;32m      3\u001b[0m \u001b[0;34m\u001b[0m\u001b[0m\n\u001b[1;32m      4\u001b[0m \u001b[0;34m@\u001b[0m\u001b[0mgiven\u001b[0m\u001b[0;34m(\u001b[0m\u001b[0mx\u001b[0m\u001b[0;34m=\u001b[0m\u001b[0mfloats\u001b[0m\u001b[0;34m(\u001b[0m\u001b[0;36m0\u001b[0m\u001b[0;34m,\u001b[0m \u001b[0;36m10\u001b[0m\u001b[0;34m)\u001b[0m\u001b[0;34m,\u001b[0m \u001b[0my\u001b[0m\u001b[0;34m=\u001b[0m\u001b[0mfloats\u001b[0m\u001b[0;34m(\u001b[0m\u001b[0;36m0\u001b[0m\u001b[0;34m,\u001b[0m \u001b[0;36m10\u001b[0m\u001b[0;34m)\u001b[0m\u001b[0;34m)\u001b[0m\u001b[0;34m\u001b[0m\u001b[0;34m\u001b[0m\u001b[0m\n\u001b[0;32m----> 5\u001b[0;31m \u001b[0;32mdef\u001b[0m \u001b[0mtest_add\u001b[0m\u001b[0;34m(\u001b[0m\u001b[0mx\u001b[0m\u001b[0;34m,\u001b[0m \u001b[0my\u001b[0m\u001b[0;34m)\u001b[0m\u001b[0;34m:\u001b[0m\u001b[0;34m\u001b[0m\u001b[0;34m\u001b[0m\u001b[0m\n\u001b[0m\u001b[1;32m      6\u001b[0m     \u001b[0;31m# x and y will be assigned floating values between 0, 10\u001b[0m\u001b[0;34m\u001b[0m\u001b[0;34m\u001b[0m\u001b[0;34m\u001b[0m\u001b[0m\n\u001b[1;32m      7\u001b[0m     \u001b[0;32massert\u001b[0m \u001b[0madd\u001b[0m\u001b[0;34m(\u001b[0m\u001b[0mx\u001b[0m\u001b[0;34m,\u001b[0m \u001b[0my\u001b[0m\u001b[0;34m)\u001b[0m \u001b[0;34m==\u001b[0m \u001b[0mx\u001b[0m \u001b[0;34m+\u001b[0m \u001b[0my\u001b[0m\u001b[0;34m\u001b[0m\u001b[0;34m\u001b[0m\u001b[0m\n",
      "    \u001b[0;31m[... skipping hidden 1 frame]\u001b[0m\n",
      "\u001b[0;32m<ipython-input-198-186ccd7e3739>\u001b[0m in \u001b[0;36mtest_add\u001b[0;34m(x, y)\u001b[0m\n\u001b[1;32m      5\u001b[0m \u001b[0;32mdef\u001b[0m \u001b[0mtest_add\u001b[0m\u001b[0;34m(\u001b[0m\u001b[0mx\u001b[0m\u001b[0;34m,\u001b[0m \u001b[0my\u001b[0m\u001b[0;34m)\u001b[0m\u001b[0;34m:\u001b[0m\u001b[0;34m\u001b[0m\u001b[0;34m\u001b[0m\u001b[0m\n\u001b[1;32m      6\u001b[0m     \u001b[0;31m# x and y will be assigned floating values between 0, 10\u001b[0m\u001b[0;34m\u001b[0m\u001b[0;34m\u001b[0m\u001b[0;34m\u001b[0m\u001b[0m\n\u001b[0;32m----> 7\u001b[0;31m     \u001b[0;32massert\u001b[0m \u001b[0madd\u001b[0m\u001b[0;34m(\u001b[0m\u001b[0mx\u001b[0m\u001b[0;34m,\u001b[0m \u001b[0my\u001b[0m\u001b[0;34m)\u001b[0m \u001b[0;34m==\u001b[0m \u001b[0mx\u001b[0m \u001b[0;34m+\u001b[0m \u001b[0my\u001b[0m\u001b[0;34m\u001b[0m\u001b[0;34m\u001b[0m\u001b[0m\n\u001b[0m\u001b[1;32m      8\u001b[0m \u001b[0;34m\u001b[0m\u001b[0m\n\u001b[1;32m      9\u001b[0m \u001b[0mtest_add\u001b[0m\u001b[0;34m(\u001b[0m\u001b[0;34m)\u001b[0m\u001b[0;34m\u001b[0m\u001b[0;34m\u001b[0m\u001b[0m\n",
      "\u001b[0;31mAssertionError\u001b[0m: "
     ]
    }
   ],
   "source": [
    "def add(x, y):\n",
    "    return x - y\n",
    "\n",
    "@given(x=floats(0, 10), y=floats(0, 10))\n",
    "def test_add(x, y):\n",
    "    # x and y will be assigned floating values between 0, 10\n",
    "    assert add(x, y) == x + y\n",
    "    \n",
    "test_add()"
   ]
  },
  {
   "cell_type": "markdown",
   "metadata": {},
   "source": [
    "# Lets run on our problem"
   ]
  },
  {
   "cell_type": "code",
   "execution_count": 179,
   "metadata": {},
   "outputs": [],
   "source": [
    "import hypothesis\n",
    "from hypothesis import given, settings\n",
    "from hypothesis.strategies import floats\n",
    "import numpy as np"
   ]
  },
  {
   "cell_type": "markdown",
   "metadata": {},
   "source": [
    "# Compare values"
   ]
  },
  {
   "cell_type": "code",
   "execution_count": 172,
   "metadata": {},
   "outputs": [],
   "source": [
    "@given(l0=floats(0, 10), l1 = floats(0, 10), l2 = floats(0, 10),\n",
    "       B=floats(0, 10), lb=floats(-1, 0), ub=floats(0, 1))\n",
    "def compare_B(l0, l1, l2, B, lb, ub):\n",
    "    np.testing.assert_approx_equal(calculate_optimal(l0=l0, l1=l1, l2=l2, B=B , lb=lb, ub=ub),\n",
    "                                   calculate_closed_from(l0=l0, l1=l1, l2=l2, B=B , lb=lb, ub=ub))"
   ]
  },
  {
   "cell_type": "code",
   "execution_count": 173,
   "metadata": {},
   "outputs": [
    {
     "name": "stdout",
     "output_type": "stream",
     "text": [
      "Falsifying example: compare(\n",
      "    l0=0.011443775404216263,\n",
      "    l1=0.0,\n",
      "    l2=0.0,\n",
      "    B=0.262548605167976,\n",
      "    lb=0.0,\n",
      "    ub=0.047969437336572454,\n",
      ")\n"
     ]
    },
    {
     "ename": "AssertionError",
     "evalue": "\nItems are not equal to 7 significant digits:\n ACTUAL: 0.047969437336572454\n DESIRED: 0.0",
     "output_type": "error",
     "traceback": [
      "\u001b[0;31m---------------------------------------------------------------------------\u001b[0m",
      "\u001b[0;31mAssertionError\u001b[0m                            Traceback (most recent call last)",
      "\u001b[0;32m<ipython-input-173-ece7af5b18b2>\u001b[0m in \u001b[0;36m<module>\u001b[0;34m\u001b[0m\n\u001b[0;32m----> 1\u001b[0;31m \u001b[0mcompare\u001b[0m\u001b[0;34m(\u001b[0m\u001b[0;34m)\u001b[0m\u001b[0;34m\u001b[0m\u001b[0;34m\u001b[0m\u001b[0m\n\u001b[0m",
      "\u001b[0;32m<ipython-input-167-b133f3efc1b1>\u001b[0m in \u001b[0;36mcompare\u001b[0;34m()\u001b[0m\n\u001b[1;32m      1\u001b[0m @given(l0=floats(0, 10), l1 = floats(0, 10), l2 = floats(0, 10),\n\u001b[0;32m----> 2\u001b[0;31m        B=floats(0, 10), lb=floats(-1, 0), ub=floats(0, 1))\n\u001b[0m\u001b[1;32m      3\u001b[0m \u001b[0;32mdef\u001b[0m \u001b[0mcompare\u001b[0m\u001b[0;34m(\u001b[0m\u001b[0ml0\u001b[0m\u001b[0;34m,\u001b[0m \u001b[0ml1\u001b[0m\u001b[0;34m,\u001b[0m \u001b[0ml2\u001b[0m\u001b[0;34m,\u001b[0m \u001b[0mB\u001b[0m\u001b[0;34m,\u001b[0m \u001b[0mlb\u001b[0m\u001b[0;34m,\u001b[0m \u001b[0mub\u001b[0m\u001b[0;34m)\u001b[0m\u001b[0;34m:\u001b[0m\u001b[0;34m\u001b[0m\u001b[0;34m\u001b[0m\u001b[0m\n\u001b[1;32m      4\u001b[0m     np.testing.assert_approx_equal(calculate_optimal(l0=l0, l1=l1, l2=l2, B=B , lb=lb, ub=ub),\n\u001b[1;32m      5\u001b[0m                                    calculate_closed_from(l0=l0, l1=l1, l2=l2, B=B , lb=lb, ub=ub))\n",
      "    \u001b[0;31m[... skipping hidden 1 frame]\u001b[0m\n",
      "\u001b[0;32m<ipython-input-167-b133f3efc1b1>\u001b[0m in \u001b[0;36mcompare\u001b[0;34m(l0, l1, l2, B, lb, ub)\u001b[0m\n\u001b[1;32m      3\u001b[0m \u001b[0;32mdef\u001b[0m \u001b[0mcompare\u001b[0m\u001b[0;34m(\u001b[0m\u001b[0ml0\u001b[0m\u001b[0;34m,\u001b[0m \u001b[0ml1\u001b[0m\u001b[0;34m,\u001b[0m \u001b[0ml2\u001b[0m\u001b[0;34m,\u001b[0m \u001b[0mB\u001b[0m\u001b[0;34m,\u001b[0m \u001b[0mlb\u001b[0m\u001b[0;34m,\u001b[0m \u001b[0mub\u001b[0m\u001b[0;34m)\u001b[0m\u001b[0;34m:\u001b[0m\u001b[0;34m\u001b[0m\u001b[0;34m\u001b[0m\u001b[0m\n\u001b[1;32m      4\u001b[0m     np.testing.assert_approx_equal(calculate_optimal(l0=l0, l1=l1, l2=l2, B=B , lb=lb, ub=ub),\n\u001b[0;32m----> 5\u001b[0;31m                                    calculate_closed_from(l0=l0, l1=l1, l2=l2, B=B , lb=lb, ub=ub))\n\u001b[0m",
      "    \u001b[0;31m[... skipping hidden 1 frame]\u001b[0m\n",
      "\u001b[0;31mAssertionError\u001b[0m: \nItems are not equal to 7 significant digits:\n ACTUAL: 0.047969437336572454\n DESIRED: 0.0"
     ]
    }
   ],
   "source": [
    "compare()"
   ]
  },
  {
   "cell_type": "code",
   "execution_count": 169,
   "metadata": {},
   "outputs": [
    {
     "name": "stdout",
     "output_type": "stream",
     "text": [
      "0 5.074643056883632\n"
     ]
    }
   ],
   "source": [
    "l0=0.2974940618184397\n",
    "l1=0.0\n",
    "l2=0.0\n",
    "B=2.252696840873985\n",
    "lb=0.0\n",
    "ub=0.06702783687498594"
   ]
  },
  {
   "cell_type": "code",
   "execution_count": 170,
   "metadata": {},
   "outputs": [
    {
     "name": "stdout",
     "output_type": "stream",
     "text": [
      "0 5.074643056883632\n"
     ]
    }
   ],
   "source": [
    "Bi_box = calculate_closed_from(l0=l0, l1=l1, l2=l2, B=B , lb=lb, ub=ub)\n",
    "print(Bi_box, cost(B, Bi_box, l0, l1, l2))"
   ]
  },
  {
   "cell_type": "code",
   "execution_count": 171,
   "metadata": {},
   "outputs": [
    {
     "name": "stdout",
     "output_type": "stream",
     "text": [
      "0.06702783687498594 5.074643056860415\n"
     ]
    }
   ],
   "source": [
    "Bi_optimal = calculate_optimal(l0=l0, l1=l1, l2=l2, B=B , lb=lb, ub=ub)\n",
    "print(Bi_optimal, cost(B, Bi_optimal, l0, l1, l2))"
   ]
  },
  {
   "cell_type": "markdown",
   "metadata": {},
   "source": [
    "# Compare Objectives"
   ]
  },
  {
   "cell_type": "code",
   "execution_count": 193,
   "metadata": {},
   "outputs": [],
   "source": [
    "@given(l0=floats(0, 10), l1 = floats(0, 10), l2 = floats(0, 10),\n",
    "       B=floats(0, 10), lb=floats(-1, 0), ub=floats(0, 1))\n",
    "@settings(max_examples=1000, derandomize=True)\n",
    "def compare_obj(l0, l1, l2, B, lb, ub):\n",
    "    global decimal\n",
    "    Bi_optimal = calculate_optimal(l0=l0, l1=l1, l2=l2, B=B , lb=lb, ub=ub)\n",
    "    Bi_box = calculate_closed_from(l0=l0, l1=l1, l2=l2, B=B , lb=lb, ub=ub)\n",
    "    \n",
    "    np.testing.assert_almost_equal(cost(B, Bi_optimal, l0, l1, l2),\n",
    "                                   cost(B, Bi_box, l0, l1, l2), decimal=decimal)"
   ]
  },
  {
   "cell_type": "code",
   "execution_count": 194,
   "metadata": {},
   "outputs": [
    {
     "name": "stdout",
     "output_type": "stream",
     "text": [
      "Falsifying example: compare_obj(\n",
      "    l0=0.0,\n",
      "    l1=0.5270922086437181,\n",
      "    l2=0.0,\n",
      "    B=0.5032392635277817,\n",
      "    lb=0.0,\n",
      "    ub=0.03366015095731623,\n",
      ")\n"
     ]
    },
    {
     "ename": "AssertionError",
     "evalue": "\nArrays are not almost equal to 2 decimals\n ACTUAL: 0.23824654627383865\n DESIRED: 0.2532497563559841",
     "output_type": "error",
     "traceback": [
      "\u001b[0;31m---------------------------------------------------------------------------\u001b[0m",
      "\u001b[0;31mAssertionError\u001b[0m                            Traceback (most recent call last)",
      "\u001b[0;32m<ipython-input-194-8dc18dc80b4d>\u001b[0m in \u001b[0;36m<module>\u001b[0;34m\u001b[0m\n\u001b[1;32m      1\u001b[0m \u001b[0mdecimal\u001b[0m \u001b[0;34m=\u001b[0m \u001b[0;36m2\u001b[0m\u001b[0;34m\u001b[0m\u001b[0;34m\u001b[0m\u001b[0m\n\u001b[0;32m----> 2\u001b[0;31m \u001b[0mcompare_obj\u001b[0m\u001b[0;34m(\u001b[0m\u001b[0;34m)\u001b[0m\u001b[0;34m\u001b[0m\u001b[0;34m\u001b[0m\u001b[0m\n\u001b[0m",
      "\u001b[0;32m<ipython-input-193-882753713d2a>\u001b[0m in \u001b[0;36mcompare_obj\u001b[0;34m()\u001b[0m\n\u001b[1;32m      1\u001b[0m @given(l0=floats(0, 10), l1 = floats(0, 10), l2 = floats(0, 10),\n\u001b[0;32m----> 2\u001b[0;31m        B=floats(0, 10), lb=floats(-1, 0), ub=floats(0, 1))\n\u001b[0m\u001b[1;32m      3\u001b[0m \u001b[0;34m@\u001b[0m\u001b[0msettings\u001b[0m\u001b[0;34m(\u001b[0m\u001b[0mmax_examples\u001b[0m\u001b[0;34m=\u001b[0m\u001b[0;36m1000\u001b[0m\u001b[0;34m,\u001b[0m\u001b[0mderandomize\u001b[0m\u001b[0;34m=\u001b[0m\u001b[0;32mTrue\u001b[0m\u001b[0;34m)\u001b[0m\u001b[0;34m\u001b[0m\u001b[0;34m\u001b[0m\u001b[0m\n\u001b[1;32m      4\u001b[0m \u001b[0;32mdef\u001b[0m \u001b[0mcompare_obj\u001b[0m\u001b[0;34m(\u001b[0m\u001b[0ml0\u001b[0m\u001b[0;34m,\u001b[0m \u001b[0ml1\u001b[0m\u001b[0;34m,\u001b[0m \u001b[0ml2\u001b[0m\u001b[0;34m,\u001b[0m \u001b[0mB\u001b[0m\u001b[0;34m,\u001b[0m \u001b[0mlb\u001b[0m\u001b[0;34m,\u001b[0m \u001b[0mub\u001b[0m\u001b[0;34m)\u001b[0m\u001b[0;34m:\u001b[0m\u001b[0;34m\u001b[0m\u001b[0;34m\u001b[0m\u001b[0m\n\u001b[1;32m      5\u001b[0m     \u001b[0;32mglobal\u001b[0m \u001b[0mdecimal\u001b[0m\u001b[0;34m\u001b[0m\u001b[0;34m\u001b[0m\u001b[0m\n",
      "    \u001b[0;31m[... skipping hidden 1 frame]\u001b[0m\n",
      "\u001b[0;32m<ipython-input-193-882753713d2a>\u001b[0m in \u001b[0;36mcompare_obj\u001b[0;34m(l0, l1, l2, B, lb, ub)\u001b[0m\n\u001b[1;32m      8\u001b[0m \u001b[0;34m\u001b[0m\u001b[0m\n\u001b[1;32m      9\u001b[0m     np.testing.assert_almost_equal(cost(B, Bi_optimal, l0, l1, l2),\n\u001b[0;32m---> 10\u001b[0;31m                                    cost(B, Bi_box, l0, l1, l2), decimal=decimal)\n\u001b[0m",
      "    \u001b[0;31m[... skipping hidden 1 frame]\u001b[0m\n",
      "\u001b[0;31mAssertionError\u001b[0m: \nArrays are not almost equal to 2 decimals\n ACTUAL: 0.23824654627383865\n DESIRED: 0.2532497563559841"
     ]
    }
   ],
   "source": [
    "decimal = 2\n",
    "compare_obj()"
   ]
  },
  {
   "cell_type": "code",
   "execution_count": null,
   "metadata": {},
   "outputs": [],
   "source": []
  }
 ],
 "metadata": {
  "kernelspec": {
   "display_name": "Python 3",
   "language": "python",
   "name": "python3"
  },
  "language_info": {
   "codemirror_mode": {
    "name": "ipython",
    "version": 3
   },
   "file_extension": ".py",
   "mimetype": "text/x-python",
   "name": "python",
   "nbconvert_exporter": "python",
   "pygments_lexer": "ipython3",
   "version": "3.7.7"
  }
 },
 "nbformat": 4,
 "nbformat_minor": 4
}
