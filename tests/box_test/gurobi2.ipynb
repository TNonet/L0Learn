{
 "cells": [
  {
   "cell_type": "code",
   "execution_count": 1,
   "metadata": {},
   "outputs": [],
   "source": [
    "import gurobipy as gp\n",
    "from gurobipy import GRB\n",
    "import math"
   ]
  },
  {
   "cell_type": "code",
   "execution_count": 2,
   "metadata": {},
   "outputs": [],
   "source": [
    "def calculate_optimal_gurobi(l0=None, l1=None, l2=None, B=None, lb=None, ub=None, M=100):\n",
    "    m = gp.Model('box_constraint_test')\n",
    "    m.setParam( 'OutputFlag', False )\n",
    "    # Variables\n",
    "    \n",
    "    Bi = m.addVar(lb=lb, ub=ub, vtype=GRB.CONTINUOUS, name=\"Bi\")\n",
    "    Bi_supp = m.addVar(vtype=GRB.BINARY, name = '1[Bi]')\n",
    "    Bi_sign = m.addVar(vtype=GRB.BINARY)\n",
    "    Bi_pos = m.addVar(lb=0, ub=ub, vtype=GRB.CONTINUOUS)\n",
    "    Bi_neg = m.addVar(lb=0, ub=-lb, vtype=GRB.CONTINUOUS)\n",
    "    \n",
    "    #Constraints\n",
    "    m.addConstr(Bi_pos <= M*Bi_sign)\n",
    "    m.addConstr(Bi_neg <= M*(1-Bi_sign))\n",
    "    m.addConstr(Bi == Bi_pos - Bi_neg)\n",
    "\n",
    "    m.addConstr(Bi >= -M*Bi_supp)\n",
    "    m.addConstr(Bi <= M*Bi_supp)\n",
    "    \n",
    "    #Cost\n",
    "    m.setObjective(0.5*(B - Bi)*(B - Bi) \n",
    "                   + l0*Bi_supp\n",
    "                   + l1*(Bi_pos + Bi_neg) \n",
    "                   + l2*Bi*Bi, GRB.MINIMIZE)\n",
    "    \n",
    "    m.optimize()\n",
    "    \n",
    "    for v in m.getVars():\n",
    "        if v.varName == \"Bi\":\n",
    "            return v.x"
   ]
  },
  {
   "cell_type": "code",
   "execution_count": 56,
   "metadata": {},
   "outputs": [
    {
     "data": {
      "text/plain": [
       "\u001b[0;31mSignature:\u001b[0m \u001b[0mmath\u001b[0m\u001b[0;34m.\u001b[0m\u001b[0mcopysign\u001b[0m\u001b[0;34m(\u001b[0m\u001b[0mx\u001b[0m\u001b[0;34m,\u001b[0m \u001b[0my\u001b[0m\u001b[0;34m,\u001b[0m \u001b[0;34m/\u001b[0m\u001b[0;34m)\u001b[0m\u001b[0;34m\u001b[0m\u001b[0;34m\u001b[0m\u001b[0m\n",
       "\u001b[0;31mDocstring:\u001b[0m\n",
       "Return a float with the magnitude (absolute value) of x but the sign of y.\n",
       "\n",
       "On platforms that support signed zeros, copysign(1.0, -0.0)\n",
       "returns -1.0.\n",
       "\u001b[0;31mType:\u001b[0m      builtin_function_or_method\n"
      ]
     },
     "metadata": {},
     "output_type": "display_data"
    }
   ],
   "source": [
    "math.copysign?"
   ]
  },
  {
   "cell_type": "code",
   "execution_count": 511,
   "metadata": {},
   "outputs": [],
   "source": [
    "def box(x, lb, ub):\n",
    "    if x > ub:\n",
    "        return ub\n",
    "    elif x <= lb:\n",
    "        return lb\n",
    "    else:\n",
    "        return x\n",
    "    \n",
    "def sign(x):\n",
    "    if x < 0:\n",
    "        return -1\n",
    "    return 1\n",
    "\n",
    "\n",
    "def calculate_close_form2(l0=None, l1=None, l2=None, B=None, lb=None, ub=None, M=None):\n",
    "    Bi = B\n",
    "    \n",
    "    two_l2_p1 = 1 + 2*l2\n",
    "    x_opt_no_L0 = math.copysign((Bi - l1)/two_l2_p1, Bi)\n",
    "    \n",
    "    if abs(x_opt_no_L0) <= math.sqrt(2*l0/two_l2_p1):\n",
    "        # x_opt without bounds does not improve cost by more than the penalties/\n",
    "        # Set x to 0.\n",
    "        return 0\n",
    "        \n",
    "    x = box(x_opt_no_L0, lb, ub)\n",
    "    # Box x to normal size.\n",
    "    \n",
    "    \n",
    "    delta = math.sqrt(((abs(Bi) - l1)**2 - 2*l0*two_l2_p1)/two_l2_p1)\n",
    "    x_range_low = x_opt_no_L0 - delta\n",
    "    x_range_high = x_opt_no_L0 + delta\n",
    "    \n",
    "    print(\"Clamped x is: \", x)\n",
    "    print(\"x magnitude needed: \", math.sqrt(2*l0/two_l2_p1))\n",
    "    print(f\"x range needed: [{x_range_low}, {x_range_high}]\")\n",
    "    \n",
    "    return x\n",
    "    if x_range_low <= x <= x_range_high:\n",
    "        return 0\n",
    "    else:\n",
    "        return x\n",
    "    \n",
    "\n",
    "def calculate_closed_form(l0=None, l1=None, l2=None, B=None, lb=None, ub=None, M=None):\n",
    "    Bi = B # Attempt to make Bi, B. This is solved for iteratively using other approaches\n",
    "    \n",
    "    two_l2_p1 = 1 + 2*l2\n",
    "    \n",
    "    x_opt_no_L0 = math.copysign((Bi - l1)/two_l2_p1, Bi)\n",
    "    print(\"x magnitude needed: \", math.sqrt(2*l0/two_l2_p1))\n",
    "    \n",
    "    x = box(x_opt_no_L0, lb, ub)\n",
    "    \n",
    "    delta = math.sqrt(((abs(Bi) - l1)**2 - 2*l0*two_l2_p1)/two_l2_p1)\n",
    "     \n",
    "    x_range_low = x_opt_no_L0 - delta\n",
    "    x_range_high = x_opt_no_L0 + delta\n",
    "    \n",
    "    #print(x_range_low, x_range_high)\n",
    "    \n",
    "    print(\"Clamped x is: \", x)\n",
    "    print(\"x magnitude needed: \", math.sqrt(2*l0/two_l2_p1))\n",
    "    print(f\"x range needed: [{x_range_low}, {x_range_high}]\")\n",
    "    \n",
    "    return x*(abs(x_opt_no_L0) >= math.sqrt(2*l0/two_l2_p1) and x_range_low <= x <= x_range_high)\n",
    "\n",
    "\n",
    "def calculate_closed_form3(l0=None, l1=None, l2=None, B=None, lb=None, ub=None, M=None):\n",
    "    Bi = B # Attempt to make Bi, B. This is solved for iteratively using other approaches\n",
    "    \n",
    "    if l1 >= abs(Bi):\n",
    "        return 0\n",
    "    \n",
    "    print((abs(Bi) - l0)/(1 + 2*l2))\n",
    "    if (abs(Bi) - l0)/(1 + 2*l2) < math.sqrt(2*l0/(1 + 2*l2)):\n",
    "        return 0\n",
    "    \n",
    "    elif (abs(Bi) - l0)/(1 + 2*l2) >= math.sqrt(2*l0/(1 + 2*l2)):\n",
    "        \n",
    "        delta = math.sqrt(((abs(Bi) - l1)**2 - 2*l0*(1 + 2*l2)))\n",
    "        low = sign(Bi)*(abs(Bi) - l1)/(1+2*l2) - delta\n",
    "        high = sign(Bi)*(abs(Bi) - l1)/(1+2*l2) + delta\n",
    "        x = box(sign(Bi)*(abs(Bi) - l1)/(1+2*l2), lb, ub)\n",
    "        print(\"x box\")\n",
    "        print(f\"range: [{low}, {high}]\")\n",
    "        if low <= x <= high:\n",
    "            return x\n",
    "        else:\n",
    "            return 0"
   ]
  },
  {
   "cell_type": "code",
   "execution_count": 546,
   "metadata": {},
   "outputs": [],
   "source": [
    "def cost(B, Bi, l0, l1, l2):\n",
    "    return 1/2*(B - Bi)**2 + l0*(Bi!=0) + l1*abs(Bi) + l2*Bi**2"
   ]
  },
  {
   "cell_type": "code",
   "execution_count": 550,
   "metadata": {},
   "outputs": [],
   "source": [
    "l0=0.006\n",
    "l1=0.0\n",
    "l2=1e-4\n",
    "B=4\n",
    "lb=0.0\n",
    "ub=0.001"
   ]
  },
  {
   "cell_type": "code",
   "execution_count": 551,
   "metadata": {},
   "outputs": [
    {
     "name": "stdout",
     "output_type": "stream",
     "text": [
      "0.0 8.0\n"
     ]
    }
   ],
   "source": [
    "Bi_optimal = calculate_optimal_gurobi(l0=l0, l1=l1, l2=l2, B=B , lb=lb, ub=ub, M = 1000)\n",
    "print(Bi_optimal, cost(B, Bi_optimal, l0, l1, l2))"
   ]
  },
  {
   "cell_type": "code",
   "execution_count": 552,
   "metadata": {},
   "outputs": [
    {
     "name": "stdout",
     "output_type": "stream",
     "text": [
      "3.993201359728055\n",
      "x box\n",
      "range: [0.000700741436099328, 7.997699578499914]\n",
      "0.001 8.0020005001\n"
     ]
    }
   ],
   "source": [
    "Bi_box = calculate_closed_form3(l0=l0, l1=l1, l2=l2, B=B , lb=lb, ub=ub)\n",
    "print(Bi_box, cost(B, Bi_box, l0, l1, l2))"
   ]
  },
  {
   "cell_type": "markdown",
   "metadata": {},
   "source": [
    "Test the implementations with 'hypothesis'. <br>\n",
    "hypothesis will search through the space defined by @given(...) and try to find examples that fail. It will then search the \"neighbors\" of that example trying to make as many of the variables 0 as possible."
   ]
  },
  {
   "cell_type": "code",
   "execution_count": 437,
   "metadata": {},
   "outputs": [],
   "source": [
    "import hypothesis\n",
    "from hypothesis import given, settings, assume, example\n",
    "from hypothesis.strategies import floats\n",
    "import numpy as np"
   ]
  },
  {
   "cell_type": "markdown",
   "metadata": {},
   "source": [
    "For example:\n",
    "```python\n",
    "def add(x, y):\n",
    "    return x - y\n",
    "\n",
    "@given(x=floats(0, 10), y=floats(0, 10))\n",
    "def test_add(x, y):\n",
    "    # x and y will be assigned floating values between 0, 10\n",
    "    assert add(x, y) == x + y\n",
    "    \n",
    "test_add() # Run here\n",
    "```\n",
    "\n",
    "test_add will try different values of x and y until it finds a failure. It will then try to push x and y to zero to find the \"smallest\" error. It will successfully push 'x' to zero as the 'truthyness\" of x-y == x+y does not depend on x. It only depends on y. Therefore, the failure it will find should be x=0 and y being very small."
   ]
  },
  {
   "cell_type": "code",
   "execution_count": 438,
   "metadata": {},
   "outputs": [
    {
     "name": "stdout",
     "output_type": "stream",
     "text": [
      "Falsifying example: test_add(\n",
      "    x=0.0, y=2.2204460492503135e-15,\n",
      ")\n"
     ]
    },
    {
     "ename": "AssertionError",
     "evalue": "",
     "output_type": "error",
     "traceback": [
      "\u001b[0;31m---------------------------------------------------------------------------\u001b[0m",
      "\u001b[0;31mAssertionError\u001b[0m                            Traceback (most recent call last)",
      "\u001b[0;32m<ipython-input-438-186ccd7e3739>\u001b[0m in \u001b[0;36m<module>\u001b[0;34m\u001b[0m\n\u001b[1;32m      7\u001b[0m     \u001b[0;32massert\u001b[0m \u001b[0madd\u001b[0m\u001b[0;34m(\u001b[0m\u001b[0mx\u001b[0m\u001b[0;34m,\u001b[0m \u001b[0my\u001b[0m\u001b[0;34m)\u001b[0m \u001b[0;34m==\u001b[0m \u001b[0mx\u001b[0m \u001b[0;34m+\u001b[0m \u001b[0my\u001b[0m\u001b[0;34m\u001b[0m\u001b[0;34m\u001b[0m\u001b[0m\n\u001b[1;32m      8\u001b[0m \u001b[0;34m\u001b[0m\u001b[0m\n\u001b[0;32m----> 9\u001b[0;31m \u001b[0mtest_add\u001b[0m\u001b[0;34m(\u001b[0m\u001b[0;34m)\u001b[0m\u001b[0;34m\u001b[0m\u001b[0;34m\u001b[0m\u001b[0m\n\u001b[0m",
      "\u001b[0;32m<ipython-input-438-186ccd7e3739>\u001b[0m in \u001b[0;36mtest_add\u001b[0;34m()\u001b[0m\n\u001b[1;32m      3\u001b[0m \u001b[0;34m\u001b[0m\u001b[0m\n\u001b[1;32m      4\u001b[0m \u001b[0;34m@\u001b[0m\u001b[0mgiven\u001b[0m\u001b[0;34m(\u001b[0m\u001b[0mx\u001b[0m\u001b[0;34m=\u001b[0m\u001b[0mfloats\u001b[0m\u001b[0;34m(\u001b[0m\u001b[0;36m0\u001b[0m\u001b[0;34m,\u001b[0m \u001b[0;36m10\u001b[0m\u001b[0;34m)\u001b[0m\u001b[0;34m,\u001b[0m \u001b[0my\u001b[0m\u001b[0;34m=\u001b[0m\u001b[0mfloats\u001b[0m\u001b[0;34m(\u001b[0m\u001b[0;36m0\u001b[0m\u001b[0;34m,\u001b[0m \u001b[0;36m10\u001b[0m\u001b[0;34m)\u001b[0m\u001b[0;34m)\u001b[0m\u001b[0;34m\u001b[0m\u001b[0;34m\u001b[0m\u001b[0m\n\u001b[0;32m----> 5\u001b[0;31m \u001b[0;32mdef\u001b[0m \u001b[0mtest_add\u001b[0m\u001b[0;34m(\u001b[0m\u001b[0mx\u001b[0m\u001b[0;34m,\u001b[0m \u001b[0my\u001b[0m\u001b[0;34m)\u001b[0m\u001b[0;34m:\u001b[0m\u001b[0;34m\u001b[0m\u001b[0;34m\u001b[0m\u001b[0m\n\u001b[0m\u001b[1;32m      6\u001b[0m     \u001b[0;31m# x and y will be assigned floating values between 0, 10\u001b[0m\u001b[0;34m\u001b[0m\u001b[0;34m\u001b[0m\u001b[0;34m\u001b[0m\u001b[0m\n\u001b[1;32m      7\u001b[0m     \u001b[0;32massert\u001b[0m \u001b[0madd\u001b[0m\u001b[0;34m(\u001b[0m\u001b[0mx\u001b[0m\u001b[0;34m,\u001b[0m \u001b[0my\u001b[0m\u001b[0;34m)\u001b[0m \u001b[0;34m==\u001b[0m \u001b[0mx\u001b[0m \u001b[0;34m+\u001b[0m \u001b[0my\u001b[0m\u001b[0;34m\u001b[0m\u001b[0;34m\u001b[0m\u001b[0m\n",
      "    \u001b[0;31m[... skipping hidden 1 frame]\u001b[0m\n",
      "\u001b[0;32m<ipython-input-438-186ccd7e3739>\u001b[0m in \u001b[0;36mtest_add\u001b[0;34m(x, y)\u001b[0m\n\u001b[1;32m      5\u001b[0m \u001b[0;32mdef\u001b[0m \u001b[0mtest_add\u001b[0m\u001b[0;34m(\u001b[0m\u001b[0mx\u001b[0m\u001b[0;34m,\u001b[0m \u001b[0my\u001b[0m\u001b[0;34m)\u001b[0m\u001b[0;34m:\u001b[0m\u001b[0;34m\u001b[0m\u001b[0;34m\u001b[0m\u001b[0m\n\u001b[1;32m      6\u001b[0m     \u001b[0;31m# x and y will be assigned floating values between 0, 10\u001b[0m\u001b[0;34m\u001b[0m\u001b[0;34m\u001b[0m\u001b[0;34m\u001b[0m\u001b[0m\n\u001b[0;32m----> 7\u001b[0;31m     \u001b[0;32massert\u001b[0m \u001b[0madd\u001b[0m\u001b[0;34m(\u001b[0m\u001b[0mx\u001b[0m\u001b[0;34m,\u001b[0m \u001b[0my\u001b[0m\u001b[0;34m)\u001b[0m \u001b[0;34m==\u001b[0m \u001b[0mx\u001b[0m \u001b[0;34m+\u001b[0m \u001b[0my\u001b[0m\u001b[0;34m\u001b[0m\u001b[0;34m\u001b[0m\u001b[0m\n\u001b[0m\u001b[1;32m      8\u001b[0m \u001b[0;34m\u001b[0m\u001b[0m\n\u001b[1;32m      9\u001b[0m \u001b[0mtest_add\u001b[0m\u001b[0;34m(\u001b[0m\u001b[0;34m)\u001b[0m\u001b[0;34m\u001b[0m\u001b[0;34m\u001b[0m\u001b[0m\n",
      "\u001b[0;31mAssertionError\u001b[0m: "
     ]
    }
   ],
   "source": [
    "def add(x, y):\n",
    "    return x - y\n",
    "\n",
    "@given(x=floats(0, 10), y=floats(0, 10))\n",
    "def test_add(x, y):\n",
    "    # x and y will be assigned floating values between 0, 10\n",
    "    assert add(x, y) == x + y\n",
    "    \n",
    "test_add()"
   ]
  },
  {
   "cell_type": "markdown",
   "metadata": {},
   "source": [
    "# Lets run on our problem"
   ]
  },
  {
   "cell_type": "markdown",
   "metadata": {},
   "source": [
    "# Compare values"
   ]
  },
  {
   "cell_type": "code",
   "execution_count": 458,
   "metadata": {},
   "outputs": [],
   "source": [
    "@given(l0=floats(0, 10), l1 = floats(0, 10), l2 = floats(0, 10),\n",
    "       B=floats(-10, 10), lb=floats(-1, 0), ub=floats(0, 1))\n",
    "@settings(max_examples=1000)\n",
    "@example(l0=0, l1=0, l2=0, B=1, lb=-1, ub=1)\n",
    "@example(l0=0, l1=0, l2=10, B=1, lb=-1, ub=1)\n",
    "@example(l0=0, l1=10, l2=0, B=1, lb=-1, ub=1)\n",
    "@example(l0=0, l1=10, l2=10, B=1, lb=-1, ub=1)\n",
    "@example(l0=10, l1=0, l2=10, B=1, lb=-1, ub=1)\n",
    "@example(l0=10, l1=10, l2=0, B=1, lb=-1, ub=1)\n",
    "@example(l0=10, l1=10, l2=10, B=1, lb=-1, ub=1)\n",
    "@example(l0=0, l1=0, l2 =0,B =-0.1, lb=-0.02, ub=0)\n",
    "@example(l0=0.0061658496635019775, l1=0.0, l2=1e-4, B=4, lb=0.0, ub=0.0015000000000000573)\n",
    "def compare_B(l0, l1, l2, B, lb, ub):\n",
    "    try:\n",
    "        np.testing.assert_almost_equal(calculate_optimal_gurobi(l0=l0, l1=l1, l2=l2, B=B , lb=lb, ub=ub),\n",
    "                                       calculate_closed_form3(l0=l0, l1=l1, l2=l2, B=B , lb=lb, ub=ub), decimal=3)\n",
    "    except ValueError:\n",
    "        pass"
   ]
  },
  {
   "cell_type": "code",
   "execution_count": 459,
   "metadata": {},
   "outputs": [],
   "source": [
    "#"
   ]
  },
  {
   "cell_type": "code",
   "execution_count": 510,
   "metadata": {},
   "outputs": [],
   "source": [
    "#compare_B()"
   ]
  },
  {
   "cell_type": "code",
   "execution_count": 507,
   "metadata": {},
   "outputs": [],
   "source": [
    "l0=0.0061658496635019775\n",
    "l1=0.0\n",
    "l2=1e-4\n",
    "B=4\n",
    "lb=0.0\n",
    "ub=0.0015000000000000573"
   ]
  },
  {
   "cell_type": "code",
   "execution_count": 508,
   "metadata": {},
   "outputs": [
    {
     "name": "stdout",
     "output_type": "stream",
     "text": [
      "3.9930355432278524\n",
      "x box\n",
      "0.0015000000000000573 15.994168099888501\n"
     ]
    }
   ],
   "source": [
    "Bi_box = calculate_closed_form3(l0=l0, l1=l1, l2=l2, B=B , lb=lb, ub=ub)\n",
    "print(Bi_box, cost(B, Bi_box, l0, l1, l2))"
   ]
  },
  {
   "cell_type": "code",
   "execution_count": 509,
   "metadata": {},
   "outputs": [
    {
     "name": "stdout",
     "output_type": "stream",
     "text": [
      "0.0 16.0\n"
     ]
    }
   ],
   "source": [
    "Bi_optimal = calculate_optimal_gurobi(l0=l0, l1=l1, l2=l2, B=B , lb=lb, ub=ub)\n",
    "print(Bi_optimal, cost(B, Bi_optimal, l0, l1, l2))"
   ]
  },
  {
   "cell_type": "markdown",
   "metadata": {},
   "source": [
    "# Compare Objectives"
   ]
  },
  {
   "cell_type": "code",
   "execution_count": 21,
   "metadata": {},
   "outputs": [],
   "source": [
    "@given(l0=floats(0, 10), l1 = floats(0, 10), l2 = floats(0, 10),\n",
    "       B=floats(0, 10), lb=floats(-1, 0), ub=floats(0, 1))\n",
    "@settings(max_examples=1000, derandomize=True)\n",
    "def compare_obj(l0, l1, l2, B, lb, ub):\n",
    "    global decimal\n",
    "    Bi_optimal = calculate_optimal_gurobi(l0=l0, l1=l1, l2=l2, B=B , lb=lb, ub=ub)\n",
    "    Bi_box = calculate_closed_form(l0=l0, l1=l1, l2=l2, B=B , lb=lb, ub=ub)\n",
    "    \n",
    "    try:\n",
    "        np.testing.assert_almost_equal(cost(B, Bi_optimal, l0, l1, l2),\n",
    "                                       cost(B, Bi_box, l0, l1, l2), decimal=decimal)\n",
    "    except AssertionError as e:\n",
    "        print(Bi_optimal, Bi_box)\n",
    "        raise "
   ]
  },
  {
   "cell_type": "code",
   "execution_count": 23,
   "metadata": {},
   "outputs": [],
   "source": [
    "decimal = 6\n",
    "compare_obj()"
   ]
  },
  {
   "cell_type": "code",
   "execution_count": null,
   "metadata": {},
   "outputs": [],
   "source": []
  }
 ],
 "metadata": {
  "kernelspec": {
   "display_name": "Python 3",
   "language": "python",
   "name": "python3"
  },
  "language_info": {
   "codemirror_mode": {
    "name": "ipython",
    "version": 3
   },
   "file_extension": ".py",
   "mimetype": "text/x-python",
   "name": "python",
   "nbconvert_exporter": "python",
   "pygments_lexer": "ipython3",
   "version": "3.7.7"
  }
 },
 "nbformat": 4,
 "nbformat_minor": 4
}
