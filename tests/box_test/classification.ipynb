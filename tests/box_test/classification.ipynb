{
 "cells": [
  {
   "cell_type": "code",
   "execution_count": 1,
   "metadata": {},
   "outputs": [],
   "source": [
    "import gurobipy as gp\n",
    "from gurobipy import GRB\n",
    "import math"
   ]
  },
  {
   "cell_type": "markdown",
   "metadata": {},
   "source": [
    "# Classification"
   ]
  },
  {
   "cell_type": "code",
   "execution_count": 25,
   "metadata": {},
   "outputs": [],
   "source": [
    "def cost(L, B, Bi, l0, l1, l2):\n",
    "    return (L + 2*l2)*(B-Bi)*(B-Bi)/2 + l0*(Bi!=0) + l1*abs(Bi)\n",
    "\n",
    "\n",
    "def calculate_optimal_gurobi(L=None, l0=None, l1=None, l2=None, B=None, lb=None, ub=None, M=100):\n",
    "    m = gp.Model('box_constraint_test')\n",
    "    m.setParam( 'OutputFlag', False )\n",
    "    m.setParam(\"MIPGap\", 1e-10)\n",
    "    m.setParam(\"MIPGapAbs\", 1e-6)\n",
    "    # Variables\n",
    "    \n",
    "    Bi = m.addVar(lb=lb, ub=ub, vtype=GRB.CONTINUOUS, name=\"Bi\")\n",
    "    Bi_supp = m.addVar(vtype=GRB.BINARY, name = '1[Bi]')\n",
    "    Bi_sign = m.addVar(vtype=GRB.BINARY)\n",
    "    Bi_pos = m.addVar(lb=0, ub=ub, vtype=GRB.CONTINUOUS)\n",
    "    Bi_neg = m.addVar(lb=0, ub=-lb, vtype=GRB.CONTINUOUS)\n",
    "    \n",
    "    #Constraints\n",
    "    m.addConstr(Bi_pos <= M*Bi_sign)\n",
    "    m.addConstr(Bi_neg <= M*(1-Bi_sign))\n",
    "    m.addConstr(Bi == Bi_pos - Bi_neg)\n",
    "\n",
    "    m.addConstr(Bi >= -M*Bi_supp)\n",
    "    m.addConstr(Bi <= M*Bi_supp)\n",
    "    \n",
    "    #Cost\n",
    "    m.setObjective((L+2*l2)*(B - Bi)*(B - Bi)/2 \n",
    "                   + l0*Bi_supp\n",
    "                   + l1*(Bi_pos + Bi_neg), GRB.MINIMIZE)\n",
    "    \n",
    "    m.optimize()\n",
    "    \n",
    "    for v in m.getVars():\n",
    "        if v.varName == \"Bi\":\n",
    "            return v.x"
   ]
  },
  {
   "cell_type": "code",
   "execution_count": 26,
   "metadata": {},
   "outputs": [],
   "source": [
    "def box(x, lb, ub):\n",
    "    if x > ub:\n",
    "        return ub\n",
    "    elif x <= lb:\n",
    "        return lb\n",
    "    else:\n",
    "        return x\n",
    "    \n",
    "def sign(x):\n",
    "    if x < 0:\n",
    "        return -1\n",
    "    return 1\n",
    "\n",
    "\n",
    "def calculate_closed_form_Lipschitz(L=None, l0=None, l1=None, l2=None, \n",
    "                                    B=None, lb=None, ub=None, M=None):\n",
    "    Bi = B # Attempt to make Bi, B. This is solved for iteratively using other approaches\n",
    "    \n",
    "    if (abs(Bi) - l1/(L+2*l2)) < math.sqrt(2*l0/(L + 2*l2)):\n",
    "        return 0\n",
    "    \n",
    "    x = box(sign(Bi)*(abs(Bi) - l1/(L+2*l2)), lb, ub)\n",
    "    \n",
    "    delta = math.sqrt((abs(Bi) - l1/(L+2*l2))**2 - 2*l0/(L+2*l2))\n",
    "    \n",
    "    low = sign(Bi)*(abs(Bi) - l1/(L+2*l2)) - delta\n",
    "    high = sign(Bi)*(abs(Bi) - l1/(L+2*l2)) + delta\n",
    "#     print(\"x box\", x)\n",
    "#     print(f\"range: [{low}, {high}]\")\n",
    "#     print(f\"range no delta: [{low+delta}, {high-delta}]\")\n",
    "    print(\"low\", low)\n",
    "    print('high', high)\n",
    "    print('x', x)\n",
    "    if low <= x <= high:\n",
    "        return x\n",
    "    else:\n",
    "        return 0"
   ]
  },
  {
   "cell_type": "code",
   "execution_count": 33,
   "metadata": {},
   "outputs": [],
   "source": [
    "L = 2\n",
    "l0=0\n",
    "l1=11.2325\n",
    "l2=0\n",
    "B=5.62674\n",
    "lb=-float('inf')\n",
    "ub=float('inf')"
   ]
  },
  {
   "cell_type": "code",
   "execution_count": 34,
   "metadata": {},
   "outputs": [
    {
     "name": "stdout",
     "output_type": "stream",
     "text": [
      "0.010489999999999888 31.660092987499997\n"
     ]
    }
   ],
   "source": [
    "Bi_optimal = calculate_optimal_gurobi(L=L, l0=l0, l1=l1, l2=l2, B=B , lb=lb, ub=ub, M = 1000)\n",
    "print(Bi_optimal, cost(L=L, B=B, Bi=Bi_optimal, l0=l0, l1=l1, l2=l2))"
   ]
  },
  {
   "cell_type": "code",
   "execution_count": 35,
   "metadata": {},
   "outputs": [
    {
     "name": "stdout",
     "output_type": "stream",
     "text": [
      "low 0.0\n",
      "high 0.020979999999999777\n",
      "x 0.010489999999999888\n",
      "0.010489999999999888 31.660092987499997\n"
     ]
    }
   ],
   "source": [
    "Bi_box = calculate_closed_form_Lipschitz(L=L, l0=l0, l1=l1, l2=l2, B=B , lb=lb, ub=ub)\n",
    "print(Bi_box, cost(L=L, B=B, Bi=Bi_box, l0=l0, l1=l1, l2=l2))"
   ]
  },
  {
   "cell_type": "markdown",
   "metadata": {},
   "source": [
    "# Lets run on our problem"
   ]
  },
  {
   "cell_type": "code",
   "execution_count": 7,
   "metadata": {},
   "outputs": [],
   "source": [
    "import hypothesis\n",
    "from hypothesis import given, settings, assume, example\n",
    "from hypothesis.strategies import floats\n",
    "import numpy as np"
   ]
  },
  {
   "cell_type": "markdown",
   "metadata": {},
   "source": [
    "# Compare values"
   ]
  },
  {
   "cell_type": "code",
   "execution_count": 14,
   "metadata": {},
   "outputs": [],
   "source": [
    "@given(L=floats(.1, 1), l0=floats(0, 10), l1 = floats(0, 10), l2 = floats(0, 10),\n",
    "       B=floats(-10, 10), lb=floats(-1, 0), ub=floats(0, 1))\n",
    "@settings(max_examples=10000)\n",
    "@example(L=0.25, l0=0, l1=0, l2=0, B=1, lb=-1, ub=1)\n",
    "@example(L=0.25, l0=0, l1=0, l2=10, B=1, lb=-1, ub=1)\n",
    "@example(L=0.25, l0=0, l1=10, l2=0, B=1, lb=-1, ub=1)\n",
    "@example(L=0.25, l0=0, l1=10, l2=10, B=1, lb=-1, ub=1)\n",
    "@example(L=0.25, l0=10, l1=0, l2=10, B=1, lb=-1, ub=1)\n",
    "@example(L=0.25, l0=10, l1=10, l2=0, B=1, lb=-1, ub=1)\n",
    "@example(L=0.25, l0=10, l1=10, l2=10, B=1, lb=-1, ub=1)\n",
    "@example(L=0.25, l0=0, l1=0, l2 =0,B =-0.1, lb=-0.02, ub=0)\n",
    "@example(L=0.25, l0=0.0061658496635019775, l1=0.0, l2=1e-4, B=4, lb=0.0, ub=0.0015000000000000573)\n",
    "def compare_B(L, l0, l1, l2, B, lb, ub):\n",
    "    gurobi = calculate_optimal_gurobi(L=L, l0=l0, l1=l1, l2=l2, B=B , lb=lb, ub=ub, M = 1000)\n",
    "    gurobi = cost(L, B, gurobi, l0, l1, l2)\n",
    "    closed = calculate_closed_form_Lipschitz(L=L, l0=l0, l1=l1, l2=l2, B=B , lb=lb, ub=ub)\n",
    "    closed = cost(L, B, closed, l0, l1, l2)\n",
    "    \n",
    "    if gurobi <= closed:\n",
    "        np.testing.assert_almost_equal(gurobi, closed)\n",
    "    \n"
   ]
  },
  {
   "cell_type": "code",
   "execution_count": 15,
   "metadata": {},
   "outputs": [],
   "source": [
    "compare_B()"
   ]
  },
  {
   "cell_type": "code",
   "execution_count": null,
   "metadata": {},
   "outputs": [],
   "source": []
  }
 ],
 "metadata": {
  "kernelspec": {
   "display_name": "Python 3",
   "language": "python",
   "name": "python3"
  },
  "language_info": {
   "codemirror_mode": {
    "name": "ipython",
    "version": 3
   },
   "file_extension": ".py",
   "mimetype": "text/x-python",
   "name": "python",
   "nbconvert_exporter": "python",
   "pygments_lexer": "ipython3",
   "version": "3.7.7"
  }
 },
 "nbformat": 4,
 "nbformat_minor": 4
}
