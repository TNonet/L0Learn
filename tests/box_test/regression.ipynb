{
 "cells": [
  {
   "cell_type": "code",
   "execution_count": 1,
   "metadata": {},
   "outputs": [],
   "source": [
    "import gurobipy as gp\n",
    "from gurobipy import GRB\n",
    "import math"
   ]
  },
  {
   "cell_type": "markdown",
   "metadata": {},
   "source": [
    "# Regression\n",
    "Compare optimal answer found through gurobi with closed form solution."
   ]
  },
  {
   "cell_type": "code",
   "execution_count": 2,
   "metadata": {},
   "outputs": [],
   "source": [
    "def calculate_optimal_gurobi(l0=None, l1=None, l2=None, B=None, lb=None, ub=None, M=100):\n",
    "    m = gp.Model('box_constraint_test')\n",
    "    m.setParam( 'OutputFlag', False )\n",
    "    m.setParam(\"MIPGap\", 1e-10)\n",
    "    m.setParam(\"MIPGapAbs\", 1e-6)\n",
    "    # Variables\n",
    "    \n",
    "    Bi = m.addVar(lb=lb, ub=ub, vtype=GRB.CONTINUOUS, name=\"Bi\")\n",
    "    Bi_supp = m.addVar(vtype=GRB.BINARY, name = '1[Bi]')\n",
    "    Bi_sign = m.addVar(vtype=GRB.BINARY)\n",
    "    Bi_pos = m.addVar(lb=0, ub=ub, vtype=GRB.CONTINUOUS)\n",
    "    Bi_neg = m.addVar(lb=0, ub=-lb, vtype=GRB.CONTINUOUS)\n",
    "    \n",
    "    #Constraints\n",
    "    m.addConstr(Bi_pos <= M*Bi_sign)\n",
    "    m.addConstr(Bi_neg <= M*(1-Bi_sign))\n",
    "    m.addConstr(Bi == Bi_pos - Bi_neg)\n",
    "\n",
    "    m.addConstr(Bi >= -M*Bi_supp)\n",
    "    m.addConstr(Bi <= M*Bi_supp)\n",
    "    \n",
    "    #Cost\n",
    "    m.setObjective(0.5*(B - Bi)*(B - Bi) \n",
    "                   + l0*Bi_supp\n",
    "                   + l1*(Bi_pos + Bi_neg) \n",
    "                   + l2*Bi*Bi, GRB.MINIMIZE)\n",
    "    \n",
    "    m.optimize()\n",
    "    \n",
    "    for v in m.getVars():\n",
    "        if v.varName == \"Bi\":\n",
    "            return v.x"
   ]
  },
  {
   "cell_type": "code",
   "execution_count": 3,
   "metadata": {},
   "outputs": [],
   "source": [
    "def cost(B, Bi, l0, l1, l2):\n",
    "    return 1/2*(B - Bi)**2 + l0*(Bi!=0) + l1*abs(Bi) + l2*Bi**2\n",
    "\n",
    "def box(x, lb, ub):\n",
    "    if x > ub:\n",
    "        return ub\n",
    "    elif x <= lb:\n",
    "        return lb\n",
    "    else:\n",
    "        return x\n",
    "    \n",
    "def sign(x):\n",
    "    if x < 0:\n",
    "        return -1\n",
    "    return 1\n",
    "\n",
    "\n",
    "def calculate_closed_form(l0=None, l1=None, l2=None, B=None, lb=None, ub=None, M=None):\n",
    "    Bi = B # Attempt to make Bi, B. This is solved for iteratively using other approaches\n",
    "    \n",
    "    if (abs(Bi) - l1)/(1 + 2*l2) < math.sqrt(2*l0/(1 + 2*l2)):\n",
    "        return 0\n",
    "    \n",
    "    elif (abs(Bi) - l1)/(1 + 2*l2) >= math.sqrt(2*l0/(1 + 2*l2)):\n",
    "        \n",
    "        delta = math.sqrt(((abs(Bi) - l1)**2 - 2*l0*(1 + 2*l2)))\n",
    "        low = sign(Bi)*(abs(Bi) - l1)/(1+2*l2) - delta/(1+2*l2)\n",
    "        high = sign(Bi)*(abs(Bi) - l1)/(1+2*l2) + delta/(1+2*l2)\n",
    "        x = box(sign(Bi)*(abs(Bi) - l1)/(1+2*l2), lb, ub)\n",
    "        if low <= x <= high:\n",
    "            return x\n",
    "        else:\n",
    "            return 0\n",
    "        \n",
    "    \n",
    "def CDL0(l0=None, B=None, lb=None, ub=None, M=None):\n",
    "    x = box(B, lb, ub)\n",
    "    \n",
    "    if abs(B) < math.sqrt(2*l0):\n",
    "        return 0\n",
    "    \n",
    "    delta = math.sqrt(B**2 - 2*l0)\n",
    "    if not (B - delta <= x <= B + delta):\n",
    "        return 0\n",
    "    else:\n",
    "        return x\n",
    "    \n",
    "\n",
    "def CDL02(l0=None, B=None, lb=None, ub=None, M=None):\n",
    "    x = box(B, lb, ub)   \n",
    "    delta = math.sqrt(abs(B**2 - 2*l0))    \n",
    "    return x * (abs(B) >= math.sqrt(2*l0) and (B - delta <= x <= B + delta))"
   ]
  },
  {
   "cell_type": "code",
   "execution_count": 4,
   "metadata": {},
   "outputs": [],
   "source": [
    "import hypothesis\n",
    "from hypothesis import given, settings, assume, example\n",
    "from hypothesis.strategies import floats\n",
    "import numpy as np"
   ]
  },
  {
   "cell_type": "markdown",
   "metadata": {},
   "source": [
    "# Compare values"
   ]
  },
  {
   "cell_type": "code",
   "execution_count": 5,
   "metadata": {},
   "outputs": [],
   "source": [
    "@given(l0=floats(0, 10), l1 = floats(0, 10), l2 = floats(0, 10),\n",
    "       B=floats(-10, 10), lb=floats(-1, 0), ub=floats(0, 1))\n",
    "@settings(max_examples=10000, deadline=None)\n",
    "@example(l0=0, l1=0, l2=0, B=1, lb=-1, ub=1)\n",
    "@example(l0=0, l1=0, l2=10, B=1, lb=-1, ub=1)\n",
    "@example(l0=0, l1=10, l2=0, B=1, lb=-1, ub=1)\n",
    "@example(l0=0, l1=10, l2=10, B=1, lb=-1, ub=1)\n",
    "@example(l0=10, l1=0, l2=10, B=1, lb=-1, ub=1)\n",
    "@example(l0=10, l1=10, l2=0, B=1, lb=-1, ub=1)\n",
    "@example(l0=10, l1=10, l2=10, B=1, lb=-1, ub=1)\n",
    "@example(l0=0, l1=0, l2 =0,B =-0.1, lb=-0.02, ub=0)\n",
    "@example(l0=0.0061658496635019775, l1=0.0, l2=1e-4, B=4, lb=0.0, ub=0.0015000000000000573)\n",
    "def compare_B(l0, l1, l2, B, lb, ub):\n",
    "    gurobi = calculate_optimal_gurobi(l0=l0, l1=l1, l2=l2, B=B , lb=lb, ub=ub)\n",
    "    gurobi = cost(B, gurobi, l0, l1, l2)\n",
    "    closed = calculate_closed_form(l0=l0, l1=l1, l2=l2, B=B , lb=lb, ub=ub)\n",
    "    closed = cost(B, closed, l0, l1, l2)\n",
    "    \n",
    "    if gurobi <= closed:\n",
    "        np.testing.assert_almost_equal(gurobi, closed)\n",
    "    "
   ]
  },
  {
   "cell_type": "code",
   "execution_count": 6,
   "metadata": {},
   "outputs": [
    {
     "name": "stdout",
     "output_type": "stream",
     "text": [
      "Using license file /Users/tnonet/gurobi.lic\n",
      "Academic license - for non-commercial use only\n"
     ]
    }
   ],
   "source": [
    "compare_B()"
   ]
  },
  {
   "cell_type": "code",
   "execution_count": 7,
   "metadata": {},
   "outputs": [],
   "source": [
    "@given(l0=floats(0, 10), B=floats(-10, 10), lb=floats(-1, 0), ub=floats(0, 1))\n",
    "@settings(max_examples=10000, deadline=None)\n",
    "def compare_CDL0(l0, B, lb, ub):\n",
    "    l1 = l2 = 0\n",
    "    gurobi = calculate_optimal_gurobi(l0=l0, l1=l1, l2=l2, B=B , lb=lb, ub=ub)\n",
    "    gurobi = cost(B, gurobi, l0, l1, l2)\n",
    "    closed = CDL0(l0=l0, B=B , lb=lb, ub=ub)\n",
    "    closed = cost(B, closed, l0, l1, l2)\n",
    "    \n",
    "    if gurobi <= closed:\n",
    "        np.testing.assert_almost_equal(gurobi, closed)\n",
    "    "
   ]
  },
  {
   "cell_type": "code",
   "execution_count": 9,
   "metadata": {},
   "outputs": [],
   "source": [
    "compare_CDL0()"
   ]
  }
 ],
 "metadata": {
  "kernelspec": {
   "display_name": "Python 3",
   "language": "python",
   "name": "python3"
  },
  "language_info": {
   "codemirror_mode": {
    "name": "ipython",
    "version": 3
   },
   "file_extension": ".py",
   "mimetype": "text/x-python",
   "name": "python",
   "nbconvert_exporter": "python",
   "pygments_lexer": "ipython3",
   "version": "3.7.7"
  }
 },
 "nbformat": 4,
 "nbformat_minor": 4
}
